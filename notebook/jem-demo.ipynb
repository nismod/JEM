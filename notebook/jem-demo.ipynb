{
 "cells": [
  {
   "cell_type": "code",
   "execution_count": null,
   "id": "0",
   "metadata": {},
   "outputs": [],
   "source": [
    "'''\n",
    "\n",
    "run_sink_impact_assessment.py\n",
    "\n",
    "    This script damages nodes one-at-a-time (single point failure analysis) to evaluate\n",
    "    the number of sinks damaged. It is a computationally intensive script.\n",
    "\n",
    "'''\n",
    "\n",
    "print('-----------------------------------------------------------------')\n",
    "print('Executing script: running run_sink_impact_assessment.py')\n",
    "\n",
    "import pandas as pd\n",
    "import os\n",
    "from tqdm import tqdm\n",
    "\n",
    "import warnings\n",
    "warnings.simplefilter(action='ignore', category=FutureWarning)\n",
    "\n",
    "import sys\n",
    "sys.path.append('../')\n",
    "\n",
    "from jem.model import jem\n",
    "from jem.analyse import analyse\n",
    "from jem.utils import *\n",
    "\n",
    "print('imported modules')\n",
    "\n",
    "# define input files\n",
    "path_to_flows = '../data/csv/generated_nodal_flows.csv'\n",
    "path_to_nodes = '../data/spatial/infrasim-network/nodes.shp'\n",
    "path_to_edges = '../data/spatial/infrasim-network/edges.shp'\n",
    "\n",
    "nodes = gpd.read_file(path_to_nodes)\n",
    "#nodes_to_attack = nodes.head(5).id.to_list()\n",
    "nodes_to_attack = nodes.id.to_list()\n",
    "\n",
    "print('loaded nodes to attack')\n",
    "\n",
    "results_dataframe = []\n",
    "count = 1\n",
    "print('beginning loop...')\n",
    "for i in range(0,len(nodes_to_attack)):\n",
    "    print('running iteration ' + str(count) + ' of ' + str(len(nodes_to_attack)))\n",
    "    # print(count)\n",
    "    # init model\n",
    "    run = jem(path_to_nodes,\n",
    "            path_to_edges,\n",
    "            path_to_flows,\n",
    "            #timesteps=1,\n",
    "            print_to_console=False,\n",
    "            nodes_to_attack=[nodes_to_attack[i]],\n",
    "            #edges_to_attack=['edge_25297'],\n",
    "            super_source=True,\n",
    "            super_sink=False)\n",
    "    \n",
    "    # build model\n",
    "    run.build()\n",
    "    \n",
    "    # run model\n",
    "    run.optimise(print_to_console=False)\n",
    "    \n",
    "    # init results\n",
    "    results = analyse(model_run=run)\n",
    "    \n",
    "    # get results\n",
    "    nodes_with_shortfall = results.nodes_with_shortfall().node.to_list()\n",
    "    population = results.get_population_at_nodes(nodes_with_shortfall,col_id='sink_id')\n",
    "    demand = results.get_demand_at_nodes(nodes_with_shortfall,col_id='sink_id')\n",
    "    node_types = results.nodes.loc[results.nodes.id.isin(nodes_with_shortfall),'asset_type'].to_list()\n",
    "    # merge\n",
    "    df = population.merge(demand,on='sink_id')\n",
    "    # add node types\n",
    "    df['sink_type'] = node_types\n",
    "    # add total number of sinks impacted\n",
    "    df['total_sinks_impacted'] = df.shape[0]\n",
    "    # add damaged node id\n",
    "    df['damaged_node_id'] = nodes_to_attack[i]\n",
    "    # reindex\n",
    "    df = df[['damaged_node_id','sink_id','sink_type','total_sinks_impacted','population','demand']]\n",
    "    # append\n",
    "    results_dataframe.append(df)\n",
    "    # append counter\n",
    "    count = count + 1\n",
    "\n",
    "print('done!')\n",
    "\n",
    "print('Saving results: running run_sink_impact_assessment.py')\n",
    "results_dataframe = pd.concat(results_dataframe,ignore_index=True)\n",
    "results_dataframe.to_csv('../outputs/sink_impact_assessment.csv',index=False)\n",
    "\n",
    "print('-----------------------------------------------------------------')"
   ]
  },
  {
   "cell_type": "code",
   "execution_count": null,
   "id": "1",
   "metadata": {},
   "outputs": [],
   "source": [
    "nodes_to_attack[i]"
   ]
  },
  {
   "cell_type": "code",
   "execution_count": null,
   "id": "2",
   "metadata": {},
   "outputs": [],
   "source": [
    "results_dataframe"
   ]
  },
  {
   "cell_type": "code",
   "execution_count": null,
   "id": "3",
   "metadata": {},
   "outputs": [],
   "source": [
    "count = 150"
   ]
  },
  {
   "cell_type": "code",
   "execution_count": null,
   "id": "4",
   "metadata": {},
   "outputs": [],
   "source": [
    "count % 25"
   ]
  },
  {
   "cell_type": "code",
   "execution_count": null,
   "id": "5",
   "metadata": {},
   "outputs": [],
   "source": []
  }
 ],
 "metadata": {
  "kernelspec": {
   "display_name": "Python 3 (ipykernel)",
   "language": "python",
   "name": "python3"
  },
  "language_info": {
   "codemirror_mode": {
    "name": "ipython",
    "version": 3
   },
   "file_extension": ".py",
   "mimetype": "text/x-python",
   "name": "python",
   "nbconvert_exporter": "python",
   "pygments_lexer": "ipython3",
   "version": "3.7.11"
  }
 },
 "nbformat": 4,
 "nbformat_minor": 5
}
