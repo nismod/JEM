{
 "cells": [
  {
   "cell_type": "code",
   "execution_count": null,
   "id": "0",
   "metadata": {},
   "outputs": [],
   "source": [
    "import pandas as pd\n",
    "import os\n",
    "from tqdm import tqdm\n",
    "\n",
    "import sys\n",
    "sys.path.append('../')\n",
    "\n",
    "from jem.model import jem\n",
    "from jem.analyse import analyse\n",
    "from jem.utils import *"
   ]
  },
  {
   "cell_type": "code",
   "execution_count": null,
   "id": "1",
   "metadata": {},
   "outputs": [],
   "source": [
    "# #--------------------------------------------\n",
    "# # Get damaged nodes\n",
    "\n",
    "# node_path = '../data/risk-results/direct_damages/electricity_network_v1.0_nodes/'\n",
    "\n",
    "# collected = []\n",
    "# for f in tqdm(os.listdir(node_path)):\n",
    "#     if 'csv' in f:\n",
    "#         data = pd.read_csv(node_path + f)\n",
    "#         collected.append(data)\n",
    "        \n",
    "\n",
    "# collected = pd.concat(collected,ignore_index=True)\n",
    "# nodes_damaged = collected.id.unique()"
   ]
  },
  {
   "cell_type": "code",
   "execution_count": null,
   "id": "2",
   "metadata": {},
   "outputs": [],
   "source": [
    "nodes = gpd.read_file('../data/spatial/infrasim-network/nodes.shp')\n",
    "nodes_to_attack = nodes.loc[nodes.asset_type == 'junction'].head(5).id.to_list()"
   ]
  },
  {
   "cell_type": "code",
   "execution_count": null,
   "id": "3",
   "metadata": {},
   "outputs": [],
   "source": [
    "#--------------------------------------------\n",
    "# Simulate damages in loop\n",
    "\n",
    "# define input files\n",
    "path_to_flows = '../data/csv/generated_nodal_flows.csv'\n",
    "path_to_nodes = '../data/spatial/infrasim-network/nodes.shp'\n",
    "path_to_edges = '../data/spatial/infrasim-network/edges.shp'\n",
    "\n",
    "n = []\n",
    "x = []\n",
    "y = []\n",
    "\n",
    "nodes_to_attack = ['node_23715']\n",
    "\n",
    "count = 0\n",
    "for i in tqdm(range(0,len(nodes_to_attack))):\n",
    "    if count < 99999999999999:\n",
    "        # print(count)\n",
    "        # init model\n",
    "        run = jem(path_to_nodes,\n",
    "                path_to_edges,\n",
    "                path_to_flows,\n",
    "                #timesteps=1,\n",
    "                print_to_console=False,\n",
    "                nodes_to_attack=list(nodes_to_attack[i]),\n",
    "                #edges_to_attack=['edge_25297'],\n",
    "                super_source=True,\n",
    "                super_sink=False)\n",
    "        \n",
    "        # build model\n",
    "        run.build()\n",
    "        \n",
    "        # run model\n",
    "        run.optimise(print_to_console=False)\n",
    "        \n",
    "        # init results\n",
    "        results = analyse(model_run=run)\n",
    "        \n",
    "        # get results\n",
    "        try:\n",
    "            n.append(nodes_damaged[0:i][-1])\n",
    "        except:\n",
    "            pass\n",
    "        x.append(count)\n",
    "        y.append(results.customers_affected_total())\n",
    "\n",
    "    count = count + 1\n",
    "\n",
    "r = pd.DataFrame({'x' : x, 'y' : y})"
   ]
  },
  {
   "cell_type": "code",
   "execution_count": null,
   "id": "4",
   "metadata": {},
   "outputs": [],
   "source": [
    "results.nodes_with_shortfall()"
   ]
  },
  {
   "cell_type": "code",
   "execution_count": null,
   "id": "5",
   "metadata": {},
   "outputs": [],
   "source": [
    "results.edge_flows[results.edge_flows.to_id=='node_23716']"
   ]
  },
  {
   "cell_type": "code",
   "execution_count": null,
   "id": "6",
   "metadata": {},
   "outputs": [],
   "source": [
    "flows = pd.read_csv('../data/csv/generated_nodal_flows.csv')\n",
    "flows"
   ]
  },
  {
   "cell_type": "code",
   "execution_count": null,
   "id": "7",
   "metadata": {},
   "outputs": [],
   "source": [
    "def process_raw_consumption_data(path):\n",
    "    '''Process raw consumption data from JPS\n",
    "    '''\n",
    "    elec_data  = pd.read_csv(path)\n",
    "    elec_data  = elec_data[['PARISH','Year','PARISH LOAD']]\n",
    "    # pivot data\n",
    "    elec_data  = elec_data.pivot(index='PARISH',columns='Year')\n",
    "    elec_data.columns = [str(i[1]) for i in elec_data.columns.values]\n",
    "    elec_data = elec_data.reset_index()\n",
    "    # convert str to data\n",
    "    try:\n",
    "        for col in ['2014', '2015', '2016', '2017', '2018', '2019', '2020',]:\n",
    "            elec_data[col] = elec_data[col].str.strip().str.replace(',','')\n",
    "            elec_data[col] = elec_data[col].astype(float)\n",
    "    except:\n",
    "        pass\n",
    "    # rename parish col\n",
    "    elec_data['Parish'] = elec_data['PARISH']\n",
    "    elec_data = elec_data.drop(['PARISH'],axis=1)\n",
    "    # rename parish names\n",
    "    elec_data.Parish = elec_data.Parish.str.replace('Portmore', 'St. Catherine')\n",
    "    elec_data.Parish = elec_data.Parish.str.replace('KSAN', 'St. Andrew')\n",
    "    elec_data.Parish = elec_data.Parish.str.replace('KSAS', 'Kingston')\n",
    "    # group KSAN and KSAS data\n",
    "    elec_data = elec_data.groupby(by=['Parish']).sum().reset_index()\n",
    "    # get latest year\n",
    "    elec_data = elec_data[['Parish',max(elec_data.columns.drop('Parish'))]]\n",
    "    return elec_data\n",
    "\n",
    "\n",
    "def append_energy_data_to_boundaries(boundaries,elec_data):\n",
    "    '''Combine energy data and admin boundaries\n",
    "    '''\n",
    "    elec_dict = elec_data.set_index('Parish')['2020'].to_dict()\n",
    "    boundaries['consumption'] = boundaries['PARISH'].map(elec_dict)\n",
    "    boundaries['ei'] = boundaries.consumption / boundaries.population\n",
    "    boundaries['ei_uom'] = 'KW/person'\n",
    "    return boundaries[['PARISH','population','consumption','ei','ei_uom',]]\n",
    "\n",
    "\n",
    "def get_ei_by_parish():\n",
    "    '''Get a dataframe of electricity intensities by parish\n",
    "    '''\n",
    "    elec_data = process_raw_consumption_data('../data/energy-demand/energy_consumption.csv')\n",
    "    boundaries = gpd.read_file('../data/incoming_data/admin_boundaries.gpkg',layer='admin1')\n",
    "    boundaries = append_energy_data_to_boundaries(boundaries,elec_data)\n",
    "    return boundaries"
   ]
  },
  {
   "cell_type": "code",
   "execution_count": null,
   "id": "8",
   "metadata": {},
   "outputs": [],
   "source": [
    "elec_data = process_raw_consumption_data('../data/energy-demand/energy_consumption.csv')\n",
    "elec_data"
   ]
  },
  {
   "cell_type": "code",
   "execution_count": null,
   "id": "9",
   "metadata": {},
   "outputs": [],
   "source": [
    "boundaries = gpd.read_file('../data/incoming_data/admin_boundaries.gpkg',layer='admin1')\n",
    "boundaries"
   ]
  },
  {
   "cell_type": "code",
   "execution_count": null,
   "id": "10",
   "metadata": {},
   "outputs": [],
   "source": [
    "boundaries = gpd.read_file('../data/population-russell/population.gpkg')\n",
    "boundaries.PARISH = boundaries.PARISH.str.title()\n",
    "boundaries.loc[boundaries.PARISH.str.contains('Catherine'),'PARISH'] = 'St. Catherine'\n",
    "boundaries.loc[boundaries.PARISH.str.contains('Mary'),'PARISH'] = 'St. Mary'\n",
    "boundaries.loc[boundaries.PARISH.str.contains('Andrew'),'PARISH'] = 'St. Andrew'\n",
    "boundaries.loc[boundaries.PARISH.str.contains('Elizabeth'),'PARISH'] = 'St. Elizabeth'\n",
    "boundaries.loc[boundaries.PARISH.str.contains('Thomas'),'PARISH'] = 'St. Thomas'\n",
    "boundaries.loc[boundaries.PARISH.str.contains('James'),'PARISH'] = 'St. James'\n",
    "boundaries.loc[boundaries.PARISH.str.contains('Ann'),'PARISH'] = 'St. Ann'\n",
    "boundaries = boundaries.groupby(by='PARISH').sum().reset_index()\n",
    "boundaries"
   ]
  },
  {
   "cell_type": "code",
   "execution_count": null,
   "id": "11",
   "metadata": {},
   "outputs": [],
   "source": [
    "append_energy_data_to_boundaries(boundaries,elec_data)"
   ]
  },
  {
   "cell_type": "code",
   "execution_count": null,
   "id": "12",
   "metadata": {},
   "outputs": [],
   "source": [
    "6600/8760"
   ]
  },
  {
   "cell_type": "code",
   "execution_count": null,
   "id": "13",
   "metadata": {},
   "outputs": [],
   "source": []
  }
 ],
 "metadata": {
  "kernelspec": {
   "display_name": "Python 3 (ipykernel)",
   "language": "python",
   "name": "python3"
  },
  "language_info": {
   "codemirror_mode": {
    "name": "ipython",
    "version": 3
   },
   "file_extension": ".py",
   "mimetype": "text/x-python",
   "name": "python",
   "nbconvert_exporter": "python",
   "pygments_lexer": "ipython3",
   "version": "3.7.11"
  }
 },
 "nbformat": 4,
 "nbformat_minor": 5
}
