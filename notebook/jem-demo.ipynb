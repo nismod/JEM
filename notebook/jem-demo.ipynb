{
 "cells": [
  {
   "cell_type": "code",
   "execution_count": null,
   "id": "0",
   "metadata": {},
   "outputs": [],
   "source": [
    "import pandas as pd\n",
    "import os\n",
    "from tqdm import tqdm\n",
    "\n",
    "import sys\n",
    "sys.path.append('../')\n",
    "\n",
    "from jem.model import jem\n",
    "from jem.analyse import analyse\n",
    "from jem.utils import *"
   ]
  },
  {
   "cell_type": "code",
   "execution_count": null,
   "id": "1",
   "metadata": {},
   "outputs": [],
   "source": [
    "#--------------------------------------------\n",
    "# Get damaged nodes\n",
    "\n",
    "node_path = '../data/risk-results/direct_damages/electricity_network_v1.0_nodes/'\n",
    "\n",
    "collected = []\n",
    "for f in tqdm(os.listdir(node_path)):\n",
    "    if 'csv' in f:\n",
    "        data = pd.read_csv(node_path + f, usecols=['id','hazard'])\n",
    "        collected.append(data)\n",
    "        \n",
    "\n",
    "collected = pd.concat(collected,ignore_index=True)\n",
    "nodes_damaged = collected.id.unique()"
   ]
  },
  {
   "cell_type": "code",
   "execution_count": null,
   "id": "2",
   "metadata": {},
   "outputs": [],
   "source": [
    "#--------------------------------------------\n",
    "# Simulate damages in loop\n",
    "\n",
    "# define input files\n",
    "path_to_flows = '../data/csv/generated_nodal_flows.csv'\n",
    "path_to_nodes = '../data/spatial/infrasim-network/version_1.0/nodes_component_1.shp'\n",
    "path_to_edges = '../data/spatial/infrasim-network/version_1.0/edges_component_1.shp'\n",
    "\n",
    "n = []\n",
    "x = []\n",
    "y = []\n",
    "\n",
    "count = 0\n",
    "for i in tqdm(range(0,len(nodes_damaged))):\n",
    "    if count < 99999999999999:\n",
    "        # print(count)\n",
    "        # init model\n",
    "        run = jem(path_to_nodes,\n",
    "                path_to_edges,\n",
    "                path_to_flows,\n",
    "                #timesteps=1,\n",
    "                print_to_console=False,\n",
    "                nodes_to_attack=nodes_damaged[0:i],\n",
    "                #edges_to_attack=['edge_25297'],\n",
    "                super_source=True,\n",
    "                super_sink=False)\n",
    "        \n",
    "        # build model\n",
    "        run.build()\n",
    "        \n",
    "        # run model\n",
    "        run.optimise(print_to_console=False)\n",
    "        \n",
    "        # init results\n",
    "        results = analyse(model_run=run)\n",
    "        \n",
    "        # get results\n",
    "        try:\n",
    "            n.append(nodes_damaged[0:i][-1])\n",
    "        except:\n",
    "            pass\n",
    "        x.append(count)\n",
    "        y.append(results.total_customers_affected())\n",
    "\n",
    "    count = count + 1\n",
    "\n",
    "r = pd.DataFrame({'x' : x, 'y' : y})"
   ]
  },
  {
   "cell_type": "code",
   "execution_count": null,
   "id": "3",
   "metadata": {},
   "outputs": [],
   "source": []
  }
 ],
 "metadata": {
  "kernelspec": {
   "display_name": "Python 3 (ipykernel)",
   "language": "python",
   "name": "python3"
  },
  "language_info": {
   "codemirror_mode": {
    "name": "ipython",
    "version": 3
   },
   "file_extension": ".py",
   "mimetype": "text/x-python",
   "name": "python",
   "nbconvert_exporter": "python",
   "pygments_lexer": "ipython3",
   "version": "3.9.7"
  }
 },
 "nbformat": 4,
 "nbformat_minor": 5
}
