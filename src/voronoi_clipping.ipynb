{
 "cells": [
  {
   "cell_type": "code",
   "execution_count": null,
   "id": "0",
   "metadata": {},
   "outputs": [],
   "source": [
    "import pandas as pd\n",
    "import geopandas as gpd\n",
    "import numpy as np\n",
    "from scipy.spatial import Voronoi\n",
    "from shapely.geometry import Polygon\n",
    "\n",
    "import sys\n",
    "sys.path.append('../jamaica-infrastructure')\n",
    "\n",
    "from scripts.preprocess.preprocess_utils import \\\n",
    "assign_node_weights_by_population_proximity,voronoi_finite_polygons_2d,extract_nodes_within_gdf"
   ]
  },
  {
   "cell_type": "code",
   "execution_count": null,
   "id": "1",
   "metadata": {},
   "outputs": [],
   "source": [
    "nodes = gpd.read_file('../data/spatial/infrasim-network/nodes.shp')\n",
    "sinks = nodes[nodes['asset_type']=='sink'].reset_index(drop=True)\n",
    "sinks = sinks#.head(500)\n",
    "sinks.head(2)\n",
    "\n",
    "admin_boundaries = gpd.read_file('../data/spatial/else/admin-boundaries.shp')\n",
    "admin_boundaries.head(2)\n",
    "\n",
    "# rename\n",
    "sinks['parish'] = sinks['parish'].str.replace('Kingston','KSA')\n",
    "sinks['parish'] = sinks['parish'].str.replace('St. Andrew','KSA')\n",
    "admin_boundaries['Parish'] = admin_boundaries['Parish'].str.replace('KSA','KSA')\n",
    "admin_boundaries['Parish'] = admin_boundaries['Parish'].str.replace('St','St.')"
   ]
  },
  {
   "cell_type": "code",
   "execution_count": null,
   "id": "2",
   "metadata": {},
   "outputs": [],
   "source": [
    "sinks.parish.unique()"
   ]
  },
  {
   "cell_type": "code",
   "execution_count": null,
   "id": "3",
   "metadata": {},
   "outputs": [],
   "source": [
    "admin_boundaries.Parish.unique()"
   ]
  },
  {
   "cell_type": "code",
   "execution_count": null,
   "id": "4",
   "metadata": {},
   "outputs": [],
   "source": [
    "node_id_column='id'\n",
    "pop_id='population'\n",
    "epsg=3448,\n",
    "voronoi_path='../data/spatial/electricity_voronoi.shp',\n",
    "\n",
    "combined_voronoi = []\n",
    "combined_nodes = []\n",
    "\n",
    "for unique_parish in sinks.parish.unique():\n",
    "    \n",
    "    nodes_dataframe = sinks.loc[sinks.parish.isin([unique_parish])].reset_index(drop=True).copy()\n",
    "    #population_dataframe = pop_bound.loc[pop_bound.PARISH.isin([unique_parish])].reset_index(drop=True).copy()\n",
    "    parish_dataframe = admin_boundaries.loc[admin_boundaries.Parish.isin([unique_parish])].reset_index(drop=True).copy()\n",
    "    \n",
    "    # load provinces and get geometry of the right population_dataframe\n",
    "    sindex_parish_dataframe = parish_dataframe.sindex\n",
    "\n",
    "    # create Voronoi polygons for the nodes\n",
    "    xy_list = []\n",
    "    for iter_, values in nodes_dataframe.iterrows():\n",
    "        xy = list(values.geometry.coords)\n",
    "        xy_list += [list(xy[0])]\n",
    "\n",
    "    vor = Voronoi(np.array(xy_list))\n",
    "    regions, vertices = voronoi_finite_polygons_2d(vor)\n",
    "    min_x = vor.min_bound[0] - 0.1\n",
    "    max_x = vor.max_bound[0] + 0.1\n",
    "    min_y = vor.min_bound[1] - 0.1\n",
    "    max_y = vor.max_bound[1] + 0.1\n",
    "\n",
    "    mins = np.tile((min_x, min_y), (vertices.shape[0], 1))\n",
    "    bounded_vertices = np.max((vertices, mins), axis=0)\n",
    "    maxs = np.tile((max_x, max_y), (vertices.shape[0], 1))\n",
    "    bounded_vertices = np.min((bounded_vertices, maxs), axis=0)\n",
    "\n",
    "    box = Polygon([[min_x, min_y], [min_x, max_y], [max_x, max_y], [max_x, min_y]])\n",
    "\n",
    "    poly_list = []\n",
    "    for region in regions:\n",
    "        polygon = vertices[region]\n",
    "        # Clipping polygon\n",
    "        poly = Polygon(polygon)\n",
    "        poly = poly.intersection(box)\n",
    "        poly_list.append(poly)\n",
    "\n",
    "    poly_index = list(np.arange(0, len(poly_list), 1))\n",
    "\n",
    "    poly_df = pd.DataFrame(list(zip(poly_index, poly_list)),\n",
    "                                   columns=['gid', 'geometry'])\n",
    "\n",
    "    gdf_voronoi = gpd.GeoDataFrame(poly_df, geometry = 'geometry') #,crs=f'epsg:{epsg}'\n",
    "    \n",
    "    # add nodes\n",
    "    gdf_voronoi[node_id_column] = gdf_voronoi.progress_apply(    \n",
    "            lambda row: extract_nodes_within_gdf(row['geometry'],nodes_dataframe,node_id_column),axis=1)\n",
    "    \n",
    "    # add parish\n",
    "    gdf_voronoi['Parish'] = gdf_voronoi[node_id_column].map(nodes_dataframe.set_index('id')['parish'].to_dict())\n",
    "    \n",
    "    # rename geom cols\n",
    "    gdf_voronoi['voronoi_geom'] = gdf_voronoi['geometry']\n",
    "    parish_dataframe['parish_geom'] = parish_dataframe['geometry']\n",
    "    \n",
    "    # dissolve\n",
    "    gdf_voronoi = pd.merge(gdf_voronoi,parish_dataframe[['Parish','parish_geom']],\n",
    "                           how='left',on='Parish')\n",
    "    \n",
    "    # dropna/empty\n",
    "    gdf_voronoi = gdf_voronoi[~gdf_voronoi.parish_geom.isna()].reset_index(drop=True)\n",
    "    \n",
    "#     for i,row in gdf_voronoi.iterrows():\n",
    "#         try:\n",
    "#             (row.voronoi_geom.buffer(0)).intersection(row.parish_geom.buffer(0))\n",
    "#         except:\n",
    "#             print('Problem at index: ' + str(i))\n",
    "#             print('--> Voronoi geom: ' + str(row.voronoi_geom))\n",
    "#             print('--> Parish geom: ' + str(row.parish_geom))\n",
    "    \n",
    "    try:\n",
    "        gdf_voronoi['geometry'] = gdf_voronoi.progress_apply(lambda row: \\\n",
    "                    (row.voronoi_geom.buffer(0)).intersection(row.parish_geom.buffer(0)),axis=1)\n",
    "    except:\n",
    "       print('FAILED: ' + unique_parish)\n",
    "    \n",
    "    combined_voronoi.append(gdf_voronoi)\n",
    "    combined_nodes.append(nodes_dataframe)\n",
    "    \n",
    "voronois = gpd.GeoDataFrame( pd.concat( combined_voronoi, ignore_index=True) )\n",
    "voronois = voronois[['id','Parish','geometry']]\n",
    "voronois = voronois[~voronois.geometry.is_empty].reset_index(drop=True)\n",
    "voronois.to_file(driver='ESRI Shapefile',filename='../_tmp/voronoi-clipped.shp')\n",
    "\n",
    "nodes = gpd.GeoDataFrame( pd.concat( combined_nodes, ignore_index=True) ) \n",
    "nodes.to_file(driver='ESRI Shapefile',filename='../_tmp/voronoi-nodes.shp')\n",
    "\n",
    "print('Done!')"
   ]
  },
  {
   "cell_type": "code",
   "execution_count": null,
   "id": "5",
   "metadata": {},
   "outputs": [],
   "source": [
    "voronois"
   ]
  },
  {
   "cell_type": "code",
   "execution_count": null,
   "id": "6",
   "metadata": {},
   "outputs": [],
   "source": [
    "nodes.set_index('id')['population'].to_dict()"
   ]
  },
  {
   "cell_type": "code",
   "execution_count": null,
   "id": "7",
   "metadata": {},
   "outputs": [],
   "source": [
    "population_dataframe = gpd.read_file('../data/population-russell/population.gpkg')"
   ]
  },
  {
   "cell_type": "code",
   "execution_count": null,
   "id": "8",
   "metadata": {},
   "outputs": [],
   "source": [
    "population_dataframe"
   ]
  },
  {
   "cell_type": "code",
   "execution_count": null,
   "id": "9",
   "metadata": {},
   "outputs": [],
   "source": []
  }
 ],
 "metadata": {
  "kernelspec": {
   "display_name": "Python 3 (ipykernel)",
   "language": "python",
   "name": "python3"
  },
  "language_info": {
   "codemirror_mode": {
    "name": "ipython",
    "version": 3
   },
   "file_extension": ".py",
   "mimetype": "text/x-python",
   "name": "python",
   "nbconvert_exporter": "python",
   "pygments_lexer": "ipython3",
   "version": "3.7.11"
  }
 },
 "nbformat": 4,
 "nbformat_minor": 5
}
