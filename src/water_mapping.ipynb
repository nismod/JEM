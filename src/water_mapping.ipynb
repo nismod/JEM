{
 "cells": [
  {
   "cell_type": "code",
   "execution_count": null,
   "id": "0",
   "metadata": {},
   "outputs": [],
   "source": [
    "import geopandas as gpd\n",
    "from shapely.ops import nearest_points\n",
    "from tqdm import tqdm\n",
    "\n",
    "elec_nodes = gpd.read_file('../data/spatial/infrasim-network/nodes.shp')\n",
    "water_nodes = gpd.read_file('../data/water/merged_water_assets.shp')"
   ]
  },
  {
   "cell_type": "code",
   "execution_count": null,
   "id": "1",
   "metadata": {},
   "outputs": [],
   "source": [
    "gpd1 = elec_nodes.loc[elec_nodes.subtype.isin(['pole','substation'])].reset_index(drop=True).copy()\n",
    "gpd2 = water_nodes.loc[water_nodes.linkage == 'True'].reset_index(drop=True).copy()\n",
    "\n",
    "pts3 = gpd1.geometry.unary_union\n",
    "\n",
    "gpd2['elec_asset'] = ''\n",
    "\n",
    "count=0\n",
    "for i, row in tqdm(gpd2.iterrows(),total=gpd2.shape[0]):\n",
    "    nearest_elec_asset = nearest_points(row.geometry, pts3)[1]\n",
    "    gpd2.loc[i,'elec_asset'] = gpd1.loc[gpd1.geometry.within(nearest_elec_asset),'id'].values[0]\n",
    "    count=count+1"
   ]
  },
  {
   "cell_type": "code",
   "execution_count": null,
   "id": "2",
   "metadata": {},
   "outputs": [],
   "source": [
    "water_nodes['elec_asset'] = water_nodes['node_id'].map(\\\n",
    "                    gpd2[['node_id','elec_asset']].set_index('node_id')['elec_asset'].to_dict())\n",
    "\n",
    "\n",
    "\n",
    "water_nodes.to_file(driver='ESRI Shapefile',filename='../_tmp/elec_nodes_mapped.shp')"
   ]
  },
  {
   "cell_type": "code",
   "execution_count": null,
   "id": "3",
   "metadata": {},
   "outputs": [],
   "source": []
  },
  {
   "cell_type": "code",
   "execution_count": null,
   "id": "4",
   "metadata": {},
   "outputs": [],
   "source": []
  },
  {
   "cell_type": "code",
   "execution_count": null,
   "id": "5",
   "metadata": {},
   "outputs": [],
   "source": []
  }
 ],
 "metadata": {
  "kernelspec": {
   "display_name": "Python 3 (ipykernel)",
   "language": "python",
   "name": "python3"
  },
  "language_info": {
   "codemirror_mode": {
    "name": "ipython",
    "version": 3
   },
   "file_extension": ".py",
   "mimetype": "text/x-python",
   "name": "python",
   "nbconvert_exporter": "python",
   "pygments_lexer": "ipython3",
   "version": "3.7.11"
  }
 },
 "nbformat": 4,
 "nbformat_minor": 5
}
